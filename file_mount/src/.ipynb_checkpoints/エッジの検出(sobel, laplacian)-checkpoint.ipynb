{
 "cells": [
  {
   "cell_type": "code",
   "execution_count": 1,
   "metadata": {},
   "outputs": [],
   "source": [
    "import cv2\n",
    "from PIL import Image\n",
    "import numpy as np"
   ]
  },
  {
   "cell_type": "code",
   "execution_count": 2,
   "metadata": {},
   "outputs": [],
   "source": [
    "img = cv2.imread(\"/work/data/src/Lena.jpg\")"
   ]
  },
  {
   "cell_type": "code",
   "execution_count": 3,
   "metadata": {},
   "outputs": [],
   "source": [
    "img_sobelx = cv2.Sobel(img, cv2.CV_32F, 1, 0, ksize=3)\n",
    "img_sobely = cv2.Sobel(img, cv2.CV_32F, 0, 1, ksize=3)"
   ]
  },
  {
   "cell_type": "code",
   "execution_count": 4,
   "metadata": {},
   "outputs": [
    {
     "data": {
      "text/plain": [
       "array([[[   0.,    0.,    0.],\n",
       "        [  -4.,   -4.,   -2.],\n",
       "        [  -6.,   -6.,   -2.],\n",
       "        ...,\n",
       "        [ -72.,  -76.,  -64.],\n",
       "        [-174., -178., -170.],\n",
       "        [   0.,    0.,    0.]],\n",
       "\n",
       "       [[   0.,    0.,    0.],\n",
       "        [  -1.,   -1.,    0.],\n",
       "        [  -5.,   -5.,   -2.],\n",
       "        ...,\n",
       "        [ -68.,  -71.,  -61.],\n",
       "        [-176., -180., -171.],\n",
       "        [   0.,    0.,    0.]],\n",
       "\n",
       "       [[   0.,    0.,    0.],\n",
       "        [   3.,    3.,    3.],\n",
       "        [  -5.,   -5.,   -4.],\n",
       "        ...,\n",
       "        [ -60.,  -58.,  -54.],\n",
       "        [-171., -171., -164.],\n",
       "        [   0.,    0.,    0.]],\n",
       "\n",
       "       ...,\n",
       "\n",
       "       [[   0.,    0.,    0.],\n",
       "        [  25.,   28.,   39.],\n",
       "        [   8.,   11.,   22.],\n",
       "        ...,\n",
       "        [ -22.,   -7.,   21.],\n",
       "        [ -28.,  -17.,    2.],\n",
       "        [   0.,    0.,    0.]],\n",
       "\n",
       "       [[   0.,    0.,    0.],\n",
       "        [  41.,   50.,   59.],\n",
       "        [  16.,   25.,   34.],\n",
       "        ...,\n",
       "        [ -17.,   -1.,   30.],\n",
       "        [  -7.,    6.,   24.],\n",
       "        [   0.,    0.,    0.]],\n",
       "\n",
       "       [[   0.,    0.,    0.],\n",
       "        [  46.,   58.,   66.],\n",
       "        [  16.,   28.,   36.],\n",
       "        ...,\n",
       "        [ -14.,    2.,   36.],\n",
       "        [   4.,   18.,   36.],\n",
       "        [   0.,    0.,    0.]]], dtype=float32)"
      ]
     },
     "execution_count": 4,
     "metadata": {},
     "output_type": "execute_result"
    }
   ],
   "source": [
    "img_sobelx"
   ]
  },
  {
   "cell_type": "code",
   "execution_count": 6,
   "metadata": {},
   "outputs": [],
   "source": [
    "img_sobelx = cv2.convertScaleAbs(img_sobelx)"
   ]
  },
  {
   "cell_type": "code",
   "execution_count": null,
   "metadata": {},
   "outputs": [],
   "source": []
  },
  {
   "cell_type": "code",
   "execution_count": null,
   "metadata": {},
   "outputs": [],
   "source": []
  }
 ],
 "metadata": {
  "kernelspec": {
   "display_name": "Python 3",
   "language": "python",
   "name": "python3"
  },
  "language_info": {
   "codemirror_mode": {
    "name": "ipython",
    "version": 3
   },
   "file_extension": ".py",
   "mimetype": "text/x-python",
   "name": "python",
   "nbconvert_exporter": "python",
   "pygments_lexer": "ipython3",
   "version": "3.7.4"
  }
 },
 "nbformat": 4,
 "nbformat_minor": 2
}
